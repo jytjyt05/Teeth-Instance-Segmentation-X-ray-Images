{
 "cells": [
  {
   "cell_type": "code",
   "execution_count": null,
   "metadata": {},
   "outputs": [],
   "source": [
    "# Good resources\n",
    "# https://colab.research.google.com/github/deepmind/deepmind-research/blob/master/polygen/training.ipynb\n",
    "# https://towardsdatascience.com/generating-3d-models-with-polygen-and-pytorch-4895f3f61a2e\n",
    "\n",
    "# https://pytorch3d.org/tutorials/render_textured_meshes"
   ]
  },
  {
   "cell_type": "code",
   "execution_count": 19,
   "metadata": {},
   "outputs": [],
   "source": [
    "import numpy as np\n",
    "import pandas as pd\n",
    "import torch"
   ]
  },
  {
   "cell_type": "code",
   "execution_count": 2,
   "metadata": {},
   "outputs": [],
   "source": [
    "def load_obj(filename):\n",
    "  \"\"\"Load vertices from .obj wavefront format file.\"\"\"\n",
    "  vertices = []\n",
    "  with open(filename, 'r') as mesh:\n",
    "    for line in mesh:\n",
    "      data = line.split()\n",
    "      if len(data) > 0 and data[0] == 'v':\n",
    "        vertices.append(data[1:])\n",
    "  return np.array(vertices, dtype=np.float32)"
   ]
  },
  {
   "cell_type": "code",
   "execution_count": 5,
   "metadata": {},
   "outputs": [],
   "source": [
    "root = 'data'\n",
    "data_path = f'{root}/3D_scans'\n",
    "label_path = f'{root}/labels'"
   ]
  },
  {
   "cell_type": "code",
   "execution_count": 11,
   "metadata": {},
   "outputs": [
    {
     "name": "stdout",
     "output_type": "stream",
     "text": [
      "[[   1.1006801    17.167776   -102.11712       0.50196075    0.50196075\n",
      "     0.50196075]\n",
      " [   5.3306537   -20.593128    -91.18822       0.50196075    0.50196075\n",
      "     0.50196075]\n",
      " [ -16.466866     -8.0680485   -90.530266      0.50196075    0.50196075\n",
      "     0.50196075]\n",
      " ...\n",
      " [  -2.9833782   -18.776342    -82.41675       0.50196075    0.50196075\n",
      "     0.50196075]\n",
      " [  19.891361      5.172693    -90.22645       0.50196075    0.50196075\n",
      "     0.50196075]\n",
      " [ -22.399826     13.0559225   -92.015         0.50196075    0.50196075\n",
      "     0.50196075]]\n"
     ]
    }
   ],
   "source": [
    "fname = '0EJBIPTC'\n",
    "verts_upper = load_obj(f'{data_path}/{fname}/{fname}_lower.obj')\n",
    "verts_lower = load_obj(f'{data_path}/{fname}/{fname}_upper.obj')\n",
    "print(verts_upper)"
   ]
  },
  {
   "cell_type": "code",
   "execution_count": 15,
   "metadata": {},
   "outputs": [],
   "source": [
    "# Lexicoghraphic sorting (order vertices for size reduction later)\n",
    "def lexi_sort(verts):\n",
    "    keys = [verts[..., i] for i in range(verts.shape[-1])]\n",
    "    idxs = np.lexsort(keys)\n",
    "    verts = verts[idxs]\n",
    "    return verts\n",
    "    \n",
    "verts_upper = lexi_sort(verts_upper)\n",
    "verts_lower = lexi_sort(verts_lower)"
   ]
  },
  {
   "cell_type": "code",
   "execution_count": 17,
   "metadata": {},
   "outputs": [],
   "source": [
    "# Normalize vertex coordinates and quantize. This converts to 8-bit values\n",
    "# This approach used in Pixel RNNs and WaveNet\n",
    "def quantize(verts):\n",
    "    # normalize vertices to range [0.0, 1.0]\n",
    "    lims = [-1.0, 1.0]\n",
    "    norm_verts = (verts - lims[0]) / (lims[1] - lims[0])\n",
    "    \n",
    "    # quantize vertices to integers in range [0, 255]\n",
    "    n_vals = 2 ** 8\n",
    "    delta = 1. / n_vals\n",
    "    return np.maximum(np.minimum((norm_verts // delta), n_vals - 1), 0).astype(np.int32)\n",
    "\n",
    "upper_quant = quantize(verts_upper)\n",
    "lower_quant = quantize(verts_lower)"
   ]
  },
  {
   "cell_type": "markdown",
   "metadata": {},
   "source": [
    "## Attempt 2 (Using PyTorch3D)"
   ]
  },
  {
   "cell_type": "code",
   "execution_count": 22,
   "metadata": {},
   "outputs": [
    {
     "name": "stdout",
     "output_type": "stream",
     "text": [
      "^C\n",
      "Note: you may need to restart the kernel to use updated packages.\n"
     ]
    },
    {
     "name": "stderr",
     "output_type": "stream",
     "text": [
      "ERROR: For req: pytorch3d==0.6.1. Invalid script entry point: <ExportEntry pytorch3d_implicitron_runner = projects.implicitron_trainer.experiment:None []> - A callable suffix is required. Cf https://packaging.python.org/specifications/entry-points/#use-for-scripts for more information.\n",
      "WARNING: You are using pip version 20.2.4; however, version 22.0.4 is available.\n",
      "You should consider upgrading via the 'c:\\users\\rjsmi\\appdata\\local\\programs\\python\\python38\\python.exe -m pip install --upgrade pip' command.\n"
     ]
    },
    {
     "name": "stdout",
     "output_type": "stream",
     "text": [
      "Collecting git+https://github.com/facebookresearch/pytorch3d.git\n",
      "  Cloning https://github.com/facebookresearch/pytorch3d.git to c:\\users\\rjsmi\\appdata\\local\\temp\\pip-req-build-bjflp1n0\n",
      "Collecting fvcore\n",
      "  Downloading fvcore-0.1.5.post20220305.tar.gz (50 kB)\n",
      "Collecting iopath\n",
      "  Downloading iopath-0.1.9-py3-none-any.whl (27 kB)\n",
      "Requirement already satisfied: numpy in c:\\users\\rjsmi\\appdata\\local\\programs\\python\\python38\\lib\\site-packages (from fvcore->pytorch3d==0.6.1) (1.19.3)\n",
      "Collecting yacs>=0.1.6\n",
      "  Downloading yacs-0.1.8-py3-none-any.whl (14 kB)\n",
      "Requirement already satisfied: pyyaml>=5.1 in c:\\users\\rjsmi\\appdata\\local\\programs\\python\\python38\\lib\\site-packages (from fvcore->pytorch3d==0.6.1) (5.3.1)\n",
      "Requirement already satisfied: tqdm in c:\\users\\rjsmi\\appdata\\local\\programs\\python\\python38\\lib\\site-packages (from fvcore->pytorch3d==0.6.1) (4.52.0)\n",
      "Requirement already satisfied: termcolor>=1.1 in c:\\users\\rjsmi\\appdata\\roaming\\python\\python38\\site-packages (from fvcore->pytorch3d==0.6.1) (1.1.0)\n",
      "Requirement already satisfied: Pillow in c:\\users\\rjsmi\\appdata\\local\\programs\\python\\python38\\lib\\site-packages (from fvcore->pytorch3d==0.6.1) (8.0.1)\n",
      "Collecting tabulate\n",
      "  Downloading tabulate-0.8.9-py3-none-any.whl (25 kB)\n",
      "Collecting portalocker\n",
      "  Downloading portalocker-2.4.0-py2.py3-none-any.whl (16 kB)\n",
      "Requirement already satisfied: pywin32>=226; platform_system == \"Windows\" in c:\\users\\rjsmi\\appdata\\local\\programs\\python\\python38\\lib\\site-packages (from portalocker->iopath->pytorch3d==0.6.1) (228)\n",
      "Building wheels for collected packages: pytorch3d, fvcore\n",
      "  Building wheel for pytorch3d (setup.py): started\n",
      "  Building wheel for pytorch3d (setup.py): still running...\n",
      "  Building wheel for pytorch3d (setup.py): still running...\n",
      "  Building wheel for pytorch3d (setup.py): still running...\n",
      "  Building wheel for pytorch3d (setup.py): finished with status 'done'\n",
      "  Created wheel for pytorch3d: filename=pytorch3d-0.6.1-cp38-cp38-win_amd64.whl size=734454 sha256=331a07d8b18f46bae1274c46bff9ae4b399f783af9bef50490f6af2dc9285aa3\n",
      "  Stored in directory: C:\\Users\\rjsmi\\AppData\\Local\\Temp\\pip-ephem-wheel-cache-q2iq6qya\\wheels\\5e\\a7\\7c\\814c3888eaaecaaf0f533faeb3c6812d82274484be51f7441c\n",
      "  Building wheel for fvcore (setup.py): started\n",
      "  Building wheel for fvcore (setup.py): finished with status 'done'\n",
      "  Created wheel for fvcore: filename=fvcore-0.1.5.post20220305-py3-none-any.whl size=61216 sha256=da57dacce10c35f17a5818ac5fc777d4b12ee37bb35a52cdaa9ed6560ed87134\n",
      "  Stored in directory: c:\\users\\rjsmi\\appdata\\local\\pip\\cache\\wheels\\37\\ee\\c7\\dcea1dee3f1aec9a6b97795824f2462883a7d213cd1efb453e\n",
      "Successfully built pytorch3d fvcore\n",
      "Installing collected packages: yacs, tabulate, portalocker, iopath, fvcore, pytorch3d\n",
      "Collecting git+https://github.com/facebookresearch/pytorch3d.git\n",
      "  Cloning https://github.com/facebookresearch/pytorch3d.git to c:\\users\\rjsmi\\appdata\\local\\temp\\pip-req-build-6wsh5o53\n",
      "Collecting fvcore\n",
      "  Using cached fvcore-0.1.5.post20220305.tar.gz (50 kB)\n",
      "Collecting iopath\n",
      "  Using cached iopath-0.1.9-py3-none-any.whl (27 kB)\n",
      "Requirement already satisfied: numpy in c:\\users\\rjsmi\\appdata\\local\\programs\\python\\python38\\lib\\site-packages (from fvcore->pytorch3d==0.6.1) (1.19.3)\n",
      "Collecting yacs>=0.1.6\n",
      "  Using cached yacs-0.1.8-py3-none-any.whl (14 kB)\n",
      "Requirement already satisfied: pyyaml>=5.1 in c:\\users\\rjsmi\\appdata\\local\\programs\\python\\python38\\lib\\site-packages (from fvcore->pytorch3d==0.6.1) (5.3.1)\n",
      "Requirement already satisfied: tqdm in c:\\users\\rjsmi\\appdata\\local\\programs\\python\\python38\\lib\\site-packages (from fvcore->pytorch3d==0.6.1) (4.52.0)\n",
      "Requirement already satisfied: termcolor>=1.1 in c:\\users\\rjsmi\\appdata\\roaming\\python\\python38\\site-packages (from fvcore->pytorch3d==0.6.1) (1.1.0)\n",
      "Requirement already satisfied: Pillow in c:\\users\\rjsmi\\appdata\\local\\programs\\python\\python38\\lib\\site-packages (from fvcore->pytorch3d==0.6.1) (8.0.1)\n",
      "Collecting tabulate\n",
      "  Using cached tabulate-0.8.9-py3-none-any.whl (25 kB)\n",
      "Collecting portalocker\n",
      "  Using cached portalocker-2.4.0-py2.py3-none-any.whl (16 kB)\n",
      "Requirement already satisfied: pywin32>=226; platform_system == \"Windows\" in c:\\users\\rjsmi\\appdata\\local\\programs\\python\\python38\\lib\\site-packages (from portalocker->iopath->pytorch3d==0.6.1) (228)\n",
      "Building wheels for collected packages: pytorch3d, fvcore\n",
      "  Building wheel for pytorch3d (setup.py): started\n",
      "  Building wheel for pytorch3d (setup.py): still running...\n",
      "  Building wheel for pytorch3d (setup.py): still running...\n",
      "  Building wheel for pytorch3d (setup.py): still running...\n",
      "  Building wheel for pytorch3d (setup.py): finished with status 'done'\n",
      "  Created wheel for pytorch3d: filename=pytorch3d-0.6.1-cp38-cp38-win_amd64.whl size=734344 sha256=3b6235af54ef3b87a2d6fe47d137a1da60c80635cec20b120a4ef11ab9e50d30\n",
      "  Stored in directory: C:\\Users\\rjsmi\\AppData\\Local\\Temp\\pip-ephem-wheel-cache-kbyb98wm\\wheels\\5e\\a7\\7c\\814c3888eaaecaaf0f533faeb3c6812d82274484be51f7441c\n",
      "  Building wheel for fvcore (setup.py): started\n",
      "  Building wheel for fvcore (setup.py): finished with status 'done'\n",
      "  Created wheel for fvcore: filename=fvcore-0.1.5.post20220305-py3-none-any.whl size=61216 sha256=1b5ccfdb088d250445d42a4ebe98686af064a6ec96c2f4069557fdc39ea8069f\n",
      "  Stored in directory: c:\\users\\rjsmi\\appdata\\local\\pip\\cache\\wheels\\37\\ee\\c7\\dcea1dee3f1aec9a6b97795824f2462883a7d213cd1efb453e\n",
      "Successfully built pytorch3d fvcore\n",
      "Installing collected packages: yacs, tabulate, portalocker, iopath, fvcore, pytorch3d\n"
     ]
    },
    {
     "name": "stderr",
     "output_type": "stream",
     "text": [
      "ERROR: For req: pytorch3d==0.6.1. Invalid script entry point: <ExportEntry pytorch3d_implicitron_runner = projects.implicitron_trainer.experiment:None []> - A callable suffix is required. Cf https://packaging.python.org/specifications/entry-points/#use-for-scripts for more information.\n",
      "WARNING: You are using pip version 20.2.4; however, version 22.0.4 is available.\n",
      "You should consider upgrading via the 'C:\\Users\\rjsmi\\AppData\\Local\\Programs\\Python\\Python38\\python.exe -m pip install --upgrade pip' command.\n"
     ]
    }
   ],
   "source": [
    "%pip install \"git+https://github.com/facebookresearch/pytorch3d.git\""
   ]
  },
  {
   "cell_type": "code",
   "execution_count": 23,
   "metadata": {},
   "outputs": [],
   "source": [
    "from pytorch3d.io import load_obj"
   ]
  },
  {
   "cell_type": "code",
   "execution_count": 25,
   "metadata": {},
   "outputs": [
    {
     "name": "stderr",
     "output_type": "stream",
     "text": [
      "C:\\Users\\rjsmi\\AppData\\Local\\Programs\\Python\\Python38\\lib\\site-packages\\pytorch3d\\io\\obj_io.py:530: UserWarning: No mtl file provided\n",
      "  warnings.warn(\"No mtl file provided\")\n"
     ]
    }
   ],
   "source": [
    "verts_l, faces_l, aux_l = load_obj(f'{data_path}/{fname}/{fname}_lower.obj')\n",
    "verts_u, faces_u, aux_u = load_obj(f'{data_path}/{fname}/{fname}_upper.obj')"
   ]
  },
  {
   "cell_type": "markdown",
   "metadata": {},
   "source": [
    "# ------ Dataset ------"
   ]
  },
  {
   "cell_type": "markdown",
   "metadata": {},
   "source": [
    "Docs on PyTorch3D dataloaders can be found [here](https://pytorch3d.org/docs/datasets)"
   ]
  },
  {
   "cell_type": "code",
   "execution_count": null,
   "metadata": {},
   "outputs": [],
   "source": [
    "# This is a work in progress. Currently, this is the dataset from MeshDataset on that GitHub page we were looking at.\n",
    "\n",
    "from torch.utils.data import Dataset\n",
    "\n",
    "class Mesh_Dataset(Dataset):\n",
    "    def __init__(self, data_list_path, num_classes=15, patch_size=7000):\n",
    "        \"\"\"\n",
    "        Args:\n",
    "            h5_path (string): Path to the txt file with h5 files.\n",
    "            transform (callable, optional): Optional transform to be applied\n",
    "                on a sample.\n",
    "        \"\"\"\n",
    "        self.data_list = pd.read_csv(data_list_path, header=None)\n",
    "        self.num_classes = num_classes\n",
    "        self.patch_size = patch_size\n",
    "\n",
    "    def __len__(self):\n",
    "        return self.data_list.shape[0]\n",
    "\n",
    "    def __getitem__(self, idx):\n",
    "        if torch.is_tensor(idx):\n",
    "            idx = idx.tolist()\n",
    "\n",
    "        i_mesh = self.data_list.iloc[idx][0] #vtk file name\n",
    "\n",
    "        # read vtk\n",
    "        mesh = load(i_mesh)\n",
    "        labels = mesh.getCellArray('Label').astype('int32').reshape(-1, 1)\n",
    "\n",
    "        #create one-hot map\n",
    "#        label_map = np.zeros([mesh.cells.shape[0], self.num_classes], dtype='int32')\n",
    "#        label_map = np.eye(self.num_classes)[labels]\n",
    "#        label_map = label_map.reshape([len(labels), self.num_classes])\n",
    "\n",
    "        # move mesh to origin\n",
    "        N = mesh.NCells()\n",
    "        points = vtk2numpy(mesh.polydata().GetPoints().GetData())\n",
    "        ids = vtk2numpy(mesh.polydata().GetPolys().GetData()).reshape((N, -1))[:,1:]\n",
    "        cells = points[ids].reshape(N, 9).astype(dtype='float32')\n",
    "\n",
    "        mean_cell_centers = mesh.centerOfMass()\n",
    "        cells[:, 0:3] -= mean_cell_centers[0:3]\n",
    "        cells[:, 3:6] -= mean_cell_centers[0:3]\n",
    "        cells[:, 6:9] -= mean_cell_centers[0:3]\n",
    "\n",
    "        # customized normal calculation; the vtk/vedo build-in function will change number of points\n",
    "        v1 = np.zeros([mesh.NCells(), 3], dtype='float32')\n",
    "        v2 = np.zeros([mesh.NCells(), 3], dtype='float32')\n",
    "        v1[:, 0] = cells[:, 0] - cells[:, 3]\n",
    "        v1[:, 1] = cells[:, 1] - cells[:, 4]\n",
    "        v1[:, 2] = cells[:, 2] - cells[:, 5]\n",
    "        v2[:, 0] = cells[:, 3] - cells[:, 6]\n",
    "        v2[:, 1] = cells[:, 4] - cells[:, 7]\n",
    "        v2[:, 2] = cells[:, 5] - cells[:, 8]\n",
    "        mesh_normals = np.cross(v1, v2)\n",
    "        mesh_normal_length = np.linalg.norm(mesh_normals, axis=1)\n",
    "        mesh_normals[:, 0] /= mesh_normal_length[:]\n",
    "        mesh_normals[:, 1] /= mesh_normal_length[:]\n",
    "        mesh_normals[:, 2] /= mesh_normal_length[:]\n",
    "        mesh.addCellArray(mesh_normals, 'Normal')\n",
    "\n",
    "        # preprae input and make copies of original data\n",
    "        points = mesh.points().copy()\n",
    "        points[:, 0:3] -= mean_cell_centers[0:3]\n",
    "        normals = mesh.getCellArray('Normal').copy() # need to copy, they use the same memory address\n",
    "        barycenters = mesh.cellCenters() # don't need to copy\n",
    "        barycenters -= mean_cell_centers[0:3]\n",
    "\n",
    "        #normalized data\n",
    "        maxs = points.max(axis=0)\n",
    "        mins = points.min(axis=0)\n",
    "        means = points.mean(axis=0)\n",
    "        stds = points.std(axis=0)\n",
    "        nmeans = normals.mean(axis=0)\n",
    "        nstds = normals.std(axis=0)\n",
    "\n",
    "        for i in range(3):\n",
    "            cells[:, i] = (cells[:, i] - means[i]) / stds[i] #point 1\n",
    "            cells[:, i+3] = (cells[:, i+3] - means[i]) / stds[i] #point 2\n",
    "            cells[:, i+6] = (cells[:, i+6] - means[i]) / stds[i] #point 3\n",
    "            barycenters[:,i] = (barycenters[:,i] - mins[i]) / (maxs[i]-mins[i])\n",
    "            normals[:,i] = (normals[:,i] - nmeans[i]) / nstds[i]\n",
    "\n",
    "        X = np.column_stack((cells, barycenters, normals))\n",
    "        Y = labels\n",
    "\n",
    "        # initialize batch of input and label\n",
    "        X_train = np.zeros([self.patch_size, X.shape[1]], dtype='float32')\n",
    "        Y_train = np.zeros([self.patch_size, Y.shape[1]], dtype='int32')\n",
    "        S1 = np.zeros([self.patch_size, self.patch_size], dtype='float32')\n",
    "        S2 = np.zeros([self.patch_size, self.patch_size], dtype='float32')\n",
    "\n",
    "        # calculate number of valid cells (tooth instead of gingiva)\n",
    "        positive_idx = np.argwhere(labels>0)[:, 0] #tooth idx\n",
    "        negative_idx = np.argwhere(labels==0)[:, 0] # gingiva idx\n",
    "\n",
    "        num_positive = len(positive_idx) # number of selected tooth cells\n",
    "\n",
    "        if num_positive > self.patch_size: # all positive_idx in this patch\n",
    "            positive_selected_idx = np.random.choice(positive_idx, size=self.patch_size, replace=False)\n",
    "            selected_idx = positive_selected_idx\n",
    "        else:   # patch contains all positive_idx and some negative_idx\n",
    "            num_negative = self.patch_size - num_positive # number of selected gingiva cells\n",
    "            positive_selected_idx = np.random.choice(positive_idx, size=num_positive, replace=False)\n",
    "            negative_selected_idx = np.random.choice(negative_idx, size=num_negative, replace=False)\n",
    "            selected_idx = np.concatenate((positive_selected_idx, negative_selected_idx))\n",
    "\n",
    "        selected_idx = np.sort(selected_idx, axis=None)\n",
    "\n",
    "        X_train[:] = X[selected_idx, :]\n",
    "        Y_train[:] = Y[selected_idx, :]\n",
    "\n",
    "        # output to visualize\n",
    "#        mesh2 = Easy_Mesh()\n",
    "#        mesh2.cells = X_train[:, 0:9]\n",
    "#        mesh2.update_cell_ids_and_points()\n",
    "#        mesh2.cell_attributes['Normal'] = X_train[:, 12:15]\n",
    "#        mesh2.cell_attributes['Label'] = Y_train\n",
    "#        mesh2.to_vtp('tmp.vtp')\n",
    "        if  torch.cuda.is_available():\n",
    "            TX = torch.as_tensor(X_train[:, 9:12], device='cuda')\n",
    "            TD = torch.cdist(TX, TX)\n",
    "            D = TD.cpu().numpy()\n",
    "        else:\n",
    "            D = distance_matrix(X_train[:, 9:12], X_train[:, 9:12])\n",
    "\n",
    "        S1[D<0.1] = 1.0\n",
    "        S1 = S1 / np.dot(np.sum(S1, axis=1, keepdims=True), np.ones((1, self.patch_size)))\n",
    "\n",
    "        S2[D<0.2] = 1.0\n",
    "        S2 = S2 / np.dot(np.sum(S2, axis=1, keepdims=True), np.ones((1, self.patch_size)))\n",
    "\n",
    "        X_train = X_train.transpose(1, 0)\n",
    "        Y_train = Y_train.transpose(1, 0)\n",
    "\n",
    "        sample = {'cells': torch.from_numpy(X_train), 'labels': torch.from_numpy(Y_train),\n",
    "                  'A_S': torch.from_numpy(S1), 'A_L': torch.from_numpy(S2)}\n",
    "\n",
    "        return sample"
   ]
  }
 ],
 "metadata": {
  "interpreter": {
   "hash": "fd9765cc4a12c8f620395c2183698124ccce9dfda40da83c1115d13f985f26dc"
  },
  "kernelspec": {
   "display_name": "Python 3.8.6 64-bit",
   "language": "python",
   "name": "python3"
  },
  "language_info": {
   "codemirror_mode": {
    "name": "ipython",
    "version": 3
   },
   "file_extension": ".py",
   "mimetype": "text/x-python",
   "name": "python",
   "nbconvert_exporter": "python",
   "pygments_lexer": "ipython3",
   "version": "3.8.6"
  },
  "orig_nbformat": 4
 },
 "nbformat": 4,
 "nbformat_minor": 2
}
